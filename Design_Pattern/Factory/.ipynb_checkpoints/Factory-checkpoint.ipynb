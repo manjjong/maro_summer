{
 "cells": [
  {
   "cell_type": "code",
   "execution_count": 1,
   "id": "258a269a",
   "metadata": {},
   "outputs": [],
   "source": [
    "import abc\n",
    "\n",
    "class Champion(metaclass=abc.ABCMeta):\n",
    "    @abc.abstractmethod\n",
    "    def q(self):\n",
    "        raise NotImplemented\n",
    "        \n",
    "    @abc.abstractmethod\n",
    "    def w(self):\n",
    "        raise NotImplemented\n",
    "        \n",
    "    @abc.abstractmethod\n",
    "    def e(self):\n",
    "        raise NotImplemented\n",
    "        \n",
    "    @abc.abstractmethod\n",
    "    def r(self):\n",
    "        raise NotImplemented\n",
    "        \n",
    "    def load_image(self):\n",
    "        print(\"이미지 불러오는 중...\")\n",
    "        \n",
    "    def apply_rune(self):\n",
    "        print(\"룬 적용 중...\")\n",
    "        \n",
    "class Garen(Champion):\n",
    "    def __init__(self, hp, mp, atk, ap):\n",
    "        self.max_hp = self.hp = hp\n",
    "        self.max_mp = self.mp = mp\n",
    "        self.max_atk = self.atk = atk\n",
    "        self.max_ap = self.ap = ap\n",
    "    \n",
    "    def q(self):\n",
    "        print(\"가렌 q\")\n",
    "        \n",
    "    def w(self):\n",
    "        print(\"가렌 w\")\n",
    "        \n",
    "    def e(self):\n",
    "        print(\"가렌 e\")\n",
    "    \n",
    "    def r(self):\n",
    "        print(\"가렌 r\")\n",
    "        \n",
    "class Teemo(Champion):\n",
    "    def __init__(self, hp, mp, atk, ap):\n",
    "        self.max_hp = self.hp = hp\n",
    "        self.max_mp = self.mp = mp\n",
    "        self.max_atk = self.atk = atk\n",
    "        self.max_ap = self.ap = ap\n",
    "    \n",
    "    def q(self):\n",
    "        print(\"티모 q\")\n",
    "        \n",
    "    def w(self):\n",
    "        print(\"티모 w\")\n",
    "        \n",
    "    def e(self):\n",
    "        print(\"티모 e\")\n",
    "    \n",
    "    def r(self):\n",
    "        print(\"티모 r\")\n",
    "        \n",
    "class Ryze(Champion):\n",
    "    def __init__(self, hp, mp, atk, ap):\n",
    "        self.max_hp = self.hp = hp\n",
    "        self.max_mp = self.mp = mp\n",
    "        self.max_atk = self.atk = atk\n",
    "        self.max_ap = self.ap = ap\n",
    "    \n",
    "    def q(self):\n",
    "        print(\"라이즈 q\")\n",
    "        \n",
    "    def w(self):\n",
    "        print(\"라이즈 w\")\n",
    "        \n",
    "    def e(self):\n",
    "        print(\"라이즈 e\")\n",
    "    \n",
    "    def r(self):\n",
    "        print(\"라이즈 r\")"
   ]
  },
  {
   "cell_type": "code",
   "execution_count": 2,
   "id": "e74abdd3",
   "metadata": {},
   "outputs": [],
   "source": [
    "class ChampionFactory:\n",
    "    def getChampion(self, id):  \n",
    "        if id == 0:\n",
    "            return Garen(100, 100, 100, 100)\n",
    "        elif id == 1:\n",
    "            return Teemo(100, 100, 100, 100)\n",
    "        elif id == 2:\n",
    "            return Ryze(100, 100, 100, 100)\n",
    "        return None"
   ]
  },
  {
   "cell_type": "code",
   "execution_count": 3,
   "id": "52efaf0d",
   "metadata": {},
   "outputs": [],
   "source": [
    "class ChampionSelect:\n",
    "    def __init__(self, factory):\n",
    "        self.factory = factory\n",
    "    \n",
    "    def select(self, id):\n",
    "        champion = self.factory.getChampion(id)\n",
    "        if champion != None:\n",
    "            champion.load_image()\n",
    "            champion.apply_rune()\n",
    "        return champion"
   ]
  },
  {
   "cell_type": "code",
   "execution_count": 4,
   "id": "f6be236c",
   "metadata": {},
   "outputs": [
    {
     "name": "stdout",
     "output_type": "stream",
     "text": [
      "이미지 불러오는 중...\n",
      "룬 적용 중...\n",
      "티모 q\n",
      "티모 w\n"
     ]
    }
   ],
   "source": [
    "champion = ChampionSelect(ChampionFactory()).select(1)\n",
    "\n",
    "champion.q()\n",
    "champion.w()"
   ]
  }
 ],
 "metadata": {
  "kernelspec": {
   "display_name": "Python 3",
   "language": "python",
   "name": "python3"
  },
  "language_info": {
   "codemirror_mode": {
    "name": "ipython",
    "version": 3
   },
   "file_extension": ".py",
   "mimetype": "text/x-python",
   "name": "python",
   "nbconvert_exporter": "python",
   "pygments_lexer": "ipython3",
   "version": "3.8.8"
  }
 },
 "nbformat": 4,
 "nbformat_minor": 5
}
