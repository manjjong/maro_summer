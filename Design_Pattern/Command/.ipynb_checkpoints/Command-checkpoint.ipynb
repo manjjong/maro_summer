{
 "cells": [
  {
   "cell_type": "code",
   "execution_count": 2,
   "id": "c40b0195",
   "metadata": {},
   "outputs": [],
   "source": [
    "import abc\n",
    "\n",
    "class Command(metaclass=abc.ABCMeta):\n",
    "    @abc.abstractmethod\n",
    "    def execute(self):\n",
    "        raise NotImplemented"
   ]
  },
  {
   "cell_type": "code",
   "execution_count": 3,
   "id": "c5cef54d",
   "metadata": {},
   "outputs": [],
   "source": [
    "class Door:\n",
    "    def __init__(self):\n",
    "        self.state = True # True : 열림, False : 닫힘\n",
    "        \n",
    "    def changeState(self):\n",
    "        self.state = not self.state\n",
    "        print(\"열림\" if self.state else \"닫힘\")\n",
    "        \n",
    "class DoorCommand(Command):\n",
    "    def __init__(self, door):\n",
    "        self.door = door\n",
    "        \n",
    "    def execute(self):\n",
    "        self.door.changeState()"
   ]
  },
  {
   "cell_type": "code",
   "execution_count": 4,
   "id": "9529231c",
   "metadata": {},
   "outputs": [],
   "source": [
    "class Interact:\n",
    "    def __init__(self, command):\n",
    "        self.command = command\n",
    "    \n",
    "    def apply(self):\n",
    "        self.command.execute()"
   ]
  },
  {
   "cell_type": "code",
   "execution_count": 5,
   "id": "2b400e9f",
   "metadata": {},
   "outputs": [
    {
     "name": "stdout",
     "output_type": "stream",
     "text": [
      "닫힘\n",
      "열림\n"
     ]
    }
   ],
   "source": [
    "door = Door()\n",
    "doorCommand = DoorCommand(door)\n",
    "doorInteract = Interact(doorCommand)\n",
    "\n",
    "doorInteract.apply()  # 열림\n",
    "doorInteract.apply()  # 닫힘"
   ]
  },
  {
   "cell_type": "code",
   "execution_count": null,
   "id": "193d81a8",
   "metadata": {},
   "outputs": [],
   "source": []
  }
 ],
 "metadata": {
  "kernelspec": {
   "display_name": "Python 3",
   "language": "python",
   "name": "python3"
  },
  "language_info": {
   "codemirror_mode": {
    "name": "ipython",
    "version": 3
   },
   "file_extension": ".py",
   "mimetype": "text/x-python",
   "name": "python",
   "nbconvert_exporter": "python",
   "pygments_lexer": "ipython3",
   "version": "3.8.8"
  }
 },
 "nbformat": 4,
 "nbformat_minor": 5
}
